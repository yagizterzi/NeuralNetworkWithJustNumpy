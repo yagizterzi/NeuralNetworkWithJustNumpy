{
 "cells": [
  {
   "cell_type": "markdown",
   "metadata": {},
   "source": [
    "**Neural Network Just Using numpy**\n",
    "This a code of a neural network made with just numpy and tested on MNIST dataset"
   ]
  },
  {
   "cell_type": "markdown",
   "metadata": {},
   "source": [
    "## 1-) Download the dataset \n",
    "Download the dataset and turn it into a numpy array for future use"
   ]
  },
  {
   "cell_type": "code",
   "execution_count": 95,
   "metadata": {},
   "outputs": [
    {
     "name": "stdout",
     "output_type": "stream",
     "text": [
      "Warning: Looks like you're using an outdated `kagglehub` version (installed: 0.3.6), please consider upgrading to the latest version (0.3.10).\n"
     ]
    }
   ],
   "source": [
    "import numpy as np\n",
    "from matplotlib import pyplot as plt\n",
    "import kagglehub\n",
    "\n",
    "# Download latest version\n",
    "path = kagglehub.dataset_download(\"hojjatk/mnist-dataset\")\n",
    "with open(path + r'/t10k-images.idx3-ubyte','rb') as f:\n",
    "    raw_data = f.read()\n",
    "np_data = np.frombuffer(raw_data, dtype=np.uint8)\n",
    "with open(path + r'/t10k-labels.idx1-ubyte','rb') as f:\n",
    "    raw_labels=f.read()\n",
    "np_labels = np.frombuffer(raw_labels, dtype=np.uint8)"
   ]
  },
  {
   "cell_type": "code",
   "execution_count": 101,
   "metadata": {},
   "outputs": [
    {
     "name": "stdout",
     "output_type": "stream",
     "text": [
      "(10000, 785)\n"
     ]
    },
    {
     "data": {
      "text/plain": [
       "np.uint8(10)"
      ]
     },
     "execution_count": 101,
     "metadata": {},
     "output_type": "execute_result"
    }
   ],
   "source": [
    "data = np_data[16:].reshape(10000, 28*28)\n",
    "\n",
    "labels = np_labels[8:].reshape(10000, 1)\n",
    "\n",
    "data = np.hstack((labels, data))\n",
    "print(data.shape)\n",
    "m , n =data.shape\n",
    "np.random.shuffle(data)\n",
    "\n",
    "data_test = data[0:2000].T\n",
    "X_test = data_test[1:n]\n",
    "Y_test = data_test[0]\n",
    "X_test = X_test/255\n",
    "\n",
    "data_train = data[2000:m].T\n",
    "X_train=data_train[1:n]\n",
    "Y_train=data_train[0]\n",
    "X_train = X_train / 255\n",
    "_,m_train = X_train.shape\n",
    "\n",
    "Y_train.max()+1"
   ]
  },
  {
   "cell_type": "code",
   "execution_count": 122,
   "metadata": {},
   "outputs": [],
   "source": [
    "def init_params():\n",
    "    W1 = np.random.rand(10, 784) * np.sqrt(2/784)\n",
    "    b1 = np.random.rand(10, 1) *0.5\n",
    "    W2 = np.random.rand(10, 10) * np.sqrt(2/10)\n",
    "    b2 = np.random.rand(10, 1) *0.5\n",
    "    return W1, b1, W2, b2\n",
    "\n",
    "def Relu(Z):\n",
    "    return np.maximum(0,Z)\n",
    "def softmax(Z):\n",
    "    Z_shifted = Z - np.max(Z, axis=0, keepdims=True)\n",
    "    exp_values = np.exp(Z_shifted)\n",
    "    return exp_values / np.sum(exp_values, axis=0, keepdims=True)\n",
    "\n",
    "def foward_prop(W1, b1, W2, b2, X):\n",
    "    Z1 = np.dot(W1, X) + b1\n",
    "    A1 = Relu(Z1)\n",
    "    Z2 = np.dot(W2, A1) + b2\n",
    "    A2 = softmax(Z2)\n",
    "    return Z1, A1, Z2, A2\n",
    "    \n",
    "def ReLU_deriv(Z):\n",
    "    return Z > 0\n",
    "\n",
    "def one_hot_encode(Y):\n",
    "    one_hot_Y = np.zeros((Y.size, 10))\n",
    "    one_hot_Y[np.arange(Y.size), Y] = 1\n",
    "    one_hot_Y = one_hot_Y.T\n",
    "    return one_hot_Y\n",
    "\n",
    "def calculate_loss(A2, Y):\n",
    "    m = Y.shape[1] if len(Y.shape) > 1 else Y.size\n",
    "    epsilon = 1e-15\n",
    "    A2_safe = np.clip(A2, epsilon, 1-epsilon)\n",
    "    if len(Y.shape) == 1 or Y.shape[0] == 1:\n",
    "        Y = Y.flatten()\n",
    "        loss = -np.sum(np.log(A2_safe[Y, range(m)])) / m\n",
    "    else:\n",
    "        loss = -np.sum(Y * np.log(A2_safe)) / m\n",
    "    return loss\n",
    "    \n",
    "\n",
    "def compute_cost(A2, Y):\n",
    "    m= Y.shape[0]\n",
    "    cost = -1/m * np.sum(Y* np.log(A2))\n",
    "    return cost\n",
    "\n",
    "def backwards_prop(Z1, A1, Z2, A2, W1, W2, X, Y,lambda_reg):\n",
    "    one_hot_encode_Y =one_hot_encode(Y)\n",
    "    m= Y.size\n",
    "    \n",
    "    dZ2 = A2 - one_hot_encode_Y\n",
    "    dW2 = 1/m * np.dot(dZ2, A1.T) + (lambda_reg/m)*W2\n",
    "    db2 = 1/m * np.sum(dZ2, axis=1, keepdims=True)   \n",
    "    \n",
    "    dZ1 = np.dot(W2.T , dZ2) * ReLU_deriv(Z1)\n",
    "    dW1 = 1 / m * dZ1.dot(X.T)  + (lambda_reg/m)*W1\n",
    "    db1 = 1 / m * np.sum(dZ1, axis=1, keepdims=True)\n",
    "    \n",
    "    return dW1, db1, dW2, db2    \n",
    "\n",
    "def update_params(W1, b1, W2, b2, dW1, db1, dW2, db2, alpha):\n",
    "    W1 = W1 - alpha * dW1\n",
    "    b1 = b1 - alpha * db1    \n",
    "    W2 = W2 - alpha * dW2  \n",
    "    b2 = b2 - alpha * db2    \n",
    "    return W1, b1, W2, b2\n"
   ]
  },
  {
   "cell_type": "code",
   "execution_count": null,
   "metadata": {},
   "outputs": [],
   "source": [
    "def get_predictions(A2):\n",
    "    return np.argmax(A2, 0)\n",
    "\n",
    "def get_accuracy(predictions, Y):\n",
    "    print(predictions, Y)\n",
    "    return np.sum(predictions == Y) / Y.size\n",
    "\n",
    "def create_mini_batches(X,Y,batch_size):\n",
    "    m = X.shape[1]\n",
    "    mini_batches = []\n",
    "    \n",
    "    permutation = np.random.permutation(m)\n",
    "    shuffled_X = X[:, permutation]\n",
    "    shuffled_Y = Y[permutation]\n",
    "    \n",
    "    num_complete_minibatches = m // batch_size\n",
    "    \n",
    "    for k in range(0, num_complete_minibatches):\n",
    "        mini_batch_X = shuffled_X[:, k * batch_size : (k + 1) * batch_size]\n",
    "        mini_batch_Y = shuffled_Y[k * batch_size : (k + 1) * batch_size]\n",
    "        mini_batch = (mini_batch_X, mini_batch_Y)\n",
    "        mini_batches.append(mini_batch)\n",
    "    \n",
    "    if m % batch_size != 0:\n",
    "        mini_batch_X = shuffled_X[:, num_complete_minibatches * batch_size : m]\n",
    "        mini_batch_Y = shuffled_Y[:, num_complete_minibatches * batch_size : m]\n",
    "        mini_batch = (mini_batch_X, mini_batch_Y)\n",
    "        mini_batches.append(mini_batch)\n",
    "    \n",
    "    return mini_batches\n",
    "\n",
    "def gradient_descent_with_mini_batches(X, Y, alpha, iterations, batch_size , lambda_reg):\n",
    "    m=X.shape[1]\n",
    "    W1 , b1, W2, b2 = init_params()\n",
    "    \n",
    "    for i in range(iterations):\n",
    "        # Create random minibatches\n",
    "        mini_batches = create_mini_batches(X, Y, batch_size)\n",
    "        \n",
    "        for mini_batch in mini_batches:\n",
    "            # Get X_mini and Y_mini from mini_batch\n",
    "            X_mini, Y_mini = mini_batch\n",
    "            mini_m = X_mini.shape[1]  # number of examples in mini-batch\n",
    "\n",
    "            Z1, A1, Z2, A2 = foward_prop(W1, b1, W2, b2, X_mini)\n",
    "            \n",
    "            dW1, db1, dW2, db2 = backwards_prop(Z1, A1, Z2, A2, W1, W2, X_mini, Y_mini, lambda_reg)\n",
    "            \n",
    "            # Update parameters\n",
    "            W1, b1, W2, b2 = update_params(W1, b1, W2, b2, dW1, db1, dW2, db2, alpha)\n",
    "        \n",
    "        if i % 10 == 0:\n",
    "            Z1, A1, Z2, A2 = foward_prop(W1, b1, W2, b2, X)\n",
    "            cost = compute_cost(A2, Y)\n",
    "            predictions = get_predictions(A2)\n",
    "            accuracy = get_accuracy(predictions, Y)\n",
    "            loss = calculate_loss(A2, Y)\n",
    "            print(f\"Iteration: {i}, Cost: {cost}, Accuracy: {accuracy}, Loss: {loss}\")\n",
    "    \n",
    "    return W1, b1, W2, b2\n",
    "\n",
    "    \n",
    "\n"
   ]
  },
  {
   "cell_type": "code",
   "execution_count": 135,
   "metadata": {},
   "outputs": [
    {
     "name": "stdout",
     "output_type": "stream",
     "text": [
      "[0 0 0 ... 2 3 3] [0 0 0 ... 1 3 0]\n",
      "Iteration: 0, Cost: 103.67317331009481, Accuracy: 0.387125, Loss: 2.0696012056085817\n",
      "[0 0 0 ... 1 3 0] [0 0 0 ... 1 3 0]\n",
      "Iteration: 10, Cost: 218.615172457469, Accuracy: 0.860125, Loss: 0.5318942429350504\n",
      "[0 0 0 ... 1 3 0] [0 0 0 ... 1 3 0]\n",
      "Iteration: 20, Cost: 275.07341398184616, Accuracy: 0.89225, Loss: 0.3863558134083404\n",
      "[0 0 0 ... 1 3 0] [0 0 0 ... 1 3 0]\n",
      "Iteration: 30, Cost: 304.12835101188256, Accuracy: 0.907, Loss: 0.33132708575059666\n",
      "[0 0 0 ... 1 3 0] [0 0 0 ... 1 3 0]\n",
      "Iteration: 40, Cost: 323.07754468908786, Accuracy: 0.913375, Loss: 0.3013125013566798\n",
      "[0 0 0 ... 1 3 0] [0 0 0 ... 1 3 0]\n",
      "Iteration: 50, Cost: 337.1409078102869, Accuracy: 0.920375, Loss: 0.27970370818352636\n",
      "[0 0 0 ... 1 3 0] [0 0 0 ... 1 3 0]\n",
      "Iteration: 60, Cost: 347.161433357692, Accuracy: 0.9255, Loss: 0.2642894533371886\n",
      "[0 0 0 ... 1 3 0] [0 0 0 ... 1 3 0]\n",
      "Iteration: 70, Cost: 356.1875853268202, Accuracy: 0.92775, Loss: 0.2506206122456852\n",
      "[0 0 0 ... 1 3 0] [0 0 0 ... 1 3 0]\n",
      "Iteration: 80, Cost: 364.16308176412554, Accuracy: 0.93025, Loss: 0.24072870583386438\n",
      "[0 0 0 ... 1 3 0] [0 0 0 ... 1 3 0]\n",
      "Iteration: 90, Cost: 369.7989878735765, Accuracy: 0.932625, Loss: 0.23219208273815894\n",
      "[0 0 0 ... 1 3 0] [0 0 0 ... 1 3 0]\n",
      "Iteration: 100, Cost: 376.8522163019104, Accuracy: 0.93525, Loss: 0.2236539803313001\n",
      "[0 0 0 ... 1 3 0] [0 0 0 ... 1 3 0]\n",
      "Iteration: 110, Cost: 381.93886423027857, Accuracy: 0.937625, Loss: 0.21734403502551286\n",
      "[0 0 0 ... 1 3 0] [0 0 0 ... 1 3 0]\n",
      "Iteration: 120, Cost: 386.95478411990393, Accuracy: 0.94, Loss: 0.2109105342410004\n",
      "[0 0 0 ... 1 3 0] [0 0 0 ... 1 3 0]\n",
      "Iteration: 130, Cost: 392.36527899107205, Accuracy: 0.940375, Loss: 0.20581650877658847\n",
      "[0 0 0 ... 1 3 0] [0 0 0 ... 1 3 0]\n",
      "Iteration: 140, Cost: 396.2057770925446, Accuracy: 0.94275, Loss: 0.20041222068103037\n",
      "[0 0 0 ... 1 3 0] [0 0 0 ... 1 3 0]\n",
      "Iteration: 150, Cost: 400.9892091327213, Accuracy: 0.9445, Loss: 0.1956312884985519\n",
      "[0 0 0 ... 1 3 0] [0 0 0 ... 1 3 0]\n",
      "Iteration: 160, Cost: 405.5218932353304, Accuracy: 0.945125, Loss: 0.19223844851468674\n",
      "[0 0 0 ... 1 3 0] [0 0 0 ... 1 3 0]\n",
      "Iteration: 170, Cost: 409.9015687373403, Accuracy: 0.946625, Loss: 0.18731890768009363\n",
      "[0 0 0 ... 1 3 0] [0 0 0 ... 1 3 0]\n",
      "Iteration: 180, Cost: 411.98010675324866, Accuracy: 0.949, Loss: 0.1833383544950453\n",
      "[0 0 0 ... 1 3 0] [0 0 0 ... 1 3 0]\n",
      "Iteration: 190, Cost: 415.0964262596861, Accuracy: 0.950125, Loss: 0.1798779126737161\n",
      "[0 0 0 ... 1 3 0] [0 0 0 ... 1 3 0]\n",
      "Iteration: 200, Cost: 420.16032779556775, Accuracy: 0.95125, Loss: 0.1766383269649343\n",
      "[0 0 0 ... 1 3 0] [0 0 0 ... 1 3 0]\n",
      "Iteration: 210, Cost: 422.5492621407727, Accuracy: 0.951375, Loss: 0.1733859775618082\n",
      "[0 0 0 ... 1 3 0] [0 0 0 ... 1 3 0]\n",
      "Iteration: 220, Cost: 425.5614597658183, Accuracy: 0.952, Loss: 0.17038115361153863\n",
      "[0 0 0 ... 1 3 0] [0 0 0 ... 1 3 0]\n",
      "Iteration: 230, Cost: 428.6690921035619, Accuracy: 0.953625, Loss: 0.1667962642086378\n",
      "[0 0 0 ... 1 3 0] [0 0 0 ... 1 3 0]\n",
      "Iteration: 240, Cost: 432.1570923582398, Accuracy: 0.954875, Loss: 0.1639232434242908\n",
      "[0 0 0 ... 1 3 0] [0 0 0 ... 1 3 0]\n",
      "Iteration: 250, Cost: 434.0027099404512, Accuracy: 0.95525, Loss: 0.16195034962685026\n",
      "[0 0 0 ... 1 3 0] [0 0 0 ... 1 3 0]\n",
      "Iteration: 260, Cost: 436.10135057473195, Accuracy: 0.95575, Loss: 0.15926579998346105\n",
      "[0 0 0 ... 1 3 0] [0 0 0 ... 1 3 0]\n",
      "Iteration: 270, Cost: 441.3753212635571, Accuracy: 0.956625, Loss: 0.15627805276724074\n",
      "[0 0 0 ... 1 3 0] [0 0 0 ... 1 3 0]\n",
      "Iteration: 280, Cost: 443.2486449076213, Accuracy: 0.95675, Loss: 0.15458237974907757\n",
      "[0 0 0 ... 1 3 0] [0 0 0 ... 1 3 0]\n",
      "Iteration: 290, Cost: 445.21348368763904, Accuracy: 0.957125, Loss: 0.15155040642260553\n",
      "[0 0 0 ... 1 3 0] [0 0 0 ... 1 3 0]\n",
      "Iteration: 300, Cost: 447.98942352932613, Accuracy: 0.95975, Loss: 0.14936052544999598\n",
      "[0 0 0 ... 1 3 0] [0 0 0 ... 1 3 0]\n",
      "Iteration: 310, Cost: 448.6113095447449, Accuracy: 0.959, Loss: 0.14761729809502003\n",
      "[0 0 0 ... 1 3 0] [0 0 0 ... 1 3 0]\n",
      "Iteration: 320, Cost: 453.21533684829706, Accuracy: 0.96075, Loss: 0.14557137013366478\n",
      "[0 0 0 ... 1 3 0] [0 0 0 ... 1 3 0]\n",
      "Iteration: 330, Cost: 454.8213822322946, Accuracy: 0.961125, Loss: 0.1431265138226202\n",
      "[0 0 0 ... 1 3 0] [0 0 0 ... 1 3 0]\n",
      "Iteration: 340, Cost: 458.48879874118137, Accuracy: 0.961625, Loss: 0.1413675280619052\n",
      "[0 0 0 ... 1 3 0] [0 0 0 ... 1 3 0]\n",
      "Iteration: 350, Cost: 458.2373103732652, Accuracy: 0.963, Loss: 0.13895581859354372\n",
      "[0 0 0 ... 1 3 0] [0 0 0 ... 1 3 0]\n",
      "Iteration: 360, Cost: 461.42717485773215, Accuracy: 0.964375, Loss: 0.13737131447405815\n",
      "[0 0 0 ... 1 3 0] [0 0 0 ... 1 3 0]\n",
      "Iteration: 370, Cost: 463.05559492509445, Accuracy: 0.9645, Loss: 0.13552622682483545\n",
      "[0 0 0 ... 1 3 0] [0 0 0 ... 1 3 0]\n",
      "Iteration: 380, Cost: 465.59724957670835, Accuracy: 0.965, Loss: 0.13396969406891804\n",
      "[0 0 0 ... 1 3 0] [0 0 0 ... 1 3 0]\n",
      "Iteration: 390, Cost: 467.023754658381, Accuracy: 0.964875, Loss: 0.13269189849766658\n",
      "[0 0 0 ... 1 3 0] [0 0 0 ... 1 3 0]\n",
      "Iteration: 400, Cost: 469.56018430398086, Accuracy: 0.9665, Loss: 0.13036066230369775\n",
      "[0 0 0 ... 1 3 0] [0 0 0 ... 1 3 0]\n",
      "Iteration: 410, Cost: 471.38497670665924, Accuracy: 0.966625, Loss: 0.12894040855315209\n",
      "[0 0 0 ... 1 3 0] [0 0 0 ... 1 3 0]\n",
      "Iteration: 420, Cost: 472.3398258755324, Accuracy: 0.96825, Loss: 0.1279747251539253\n",
      "[0 0 0 ... 1 3 0] [0 0 0 ... 1 3 0]\n",
      "Iteration: 430, Cost: 475.4862199346989, Accuracy: 0.96825, Loss: 0.12558562564566572\n",
      "[0 0 0 ... 1 3 0] [0 0 0 ... 1 3 0]\n",
      "Iteration: 440, Cost: 477.39417186137865, Accuracy: 0.968625, Loss: 0.12437877153146225\n",
      "[0 0 0 ... 1 3 0] [0 0 0 ... 1 3 0]\n",
      "Iteration: 450, Cost: 480.3980031692185, Accuracy: 0.96825, Loss: 0.12361432507248386\n",
      "[0 0 0 ... 1 3 0] [0 0 0 ... 1 3 0]\n",
      "Iteration: 460, Cost: 480.388065406371, Accuracy: 0.96825, Loss: 0.12288857561049997\n",
      "[0 0 0 ... 1 3 0] [0 0 0 ... 1 3 0]\n",
      "Iteration: 470, Cost: 481.9871286030123, Accuracy: 0.970875, Loss: 0.12074145201196403\n",
      "[0 0 0 ... 1 3 0] [0 0 0 ... 1 3 0]\n",
      "Iteration: 480, Cost: 484.82678323742425, Accuracy: 0.97025, Loss: 0.11922891506560084\n",
      "[0 0 0 ... 1 3 0] [0 0 0 ... 1 3 0]\n",
      "Iteration: 490, Cost: 487.4715936084348, Accuracy: 0.9705, Loss: 0.11858662999279034\n"
     ]
    }
   ],
   "source": [
    "W1, b1, W2, b2 = gradient_descent_with_mini_batches(X_train, Y_train, 0.01, 500,64, 0.05)\n"
   ]
  },
  {
   "cell_type": "code",
   "execution_count": 136,
   "metadata": {},
   "outputs": [],
   "source": [
    "def get_predictions(A2):\n",
    "    return np.argmax(A2, axis=0)\n",
    "def make_predictions(X, W1, b1, W2, b2):\n",
    "    _, _, _, A2 = foward_prop(W1, b1, W2, b2, X)\n",
    "    predictions = get_predictions(A2)\n",
    "    return predictions\n",
    "\n",
    "def test_prediction(index, W1, b1, W2, b2):\n",
    "    current_image = X_train[:, index, None]\n",
    "    prediction = make_predictions(X_train[:, index, None], W1, b1, W2, b2)\n",
    "    label = Y_train[index]\n",
    "    print(\"Prediction: \", prediction)\n",
    "    print(\"Label: \", label)\n",
    "    \n",
    "    current_image = current_image.reshape((28, 28)) * 255\n",
    "    plt.gray()\n",
    "    plt.imshow(current_image, interpolation='nearest')\n",
    "    plt.show()"
   ]
  },
  {
   "cell_type": "code",
   "execution_count": 138,
   "metadata": {},
   "outputs": [
    {
     "name": "stdout",
     "output_type": "stream",
     "text": [
      "[1 3 6 ... 9 3 8] [1 3 6 ... 9 8 8]\n"
     ]
    },
    {
     "data": {
      "text/plain": [
       "np.float64(0.9215)"
      ]
     },
     "execution_count": 138,
     "metadata": {},
     "output_type": "execute_result"
    }
   ],
   "source": [
    "dev_predictions = make_predictions(X_test, W1, b1, W2, b2)\n",
    "get_accuracy(dev_predictions, Y_test)"
   ]
  },
  {
   "cell_type": "code",
   "execution_count": 129,
   "metadata": {},
   "outputs": [
    {
     "name": "stdout",
     "output_type": "stream",
     "text": [
      "Prediction:  [9]\n",
      "Label:  9\n"
     ]
    },
    {
     "data": {
      "image/png": "[encoded data removed]",
      "text/plain": [
       "<Figure size 640x480 with 1 Axes>"
      ]
     },
     "metadata": {},
     "output_type": "display_data"
    },
    {
     "name": "stdout",
     "output_type": "stream",
     "text": [
      "Prediction:  [0]\n",
      "Label:  0\n"
     ]
    },
    {
     "data": {
      "image/png": "[encoded data removed]",
      "text/plain": [
       "<Figure size 640x480 with 1 Axes>"
      ]
     },
     "metadata": {},
     "output_type": "display_data"
    },
    {
     "name": "stdout",
     "output_type": "stream",
     "text": [
      "Prediction:  [0]\n",
      "Label:  0\n"
     ]
    },
    {
     "data": {
      "image/png": "[encoded data removed]",
      "text/plain": [
       "<Figure size 640x480 with 1 Axes>"
      ]
     },
     "metadata": {},
     "output_type": "display_data"
    },
    {
     "name": "stdout",
     "output_type": "stream",
     "text": [
      "Prediction:  [0]\n",
      "Label:  0\n"
     ]
    },
    {
     "data": {
      "image/png": "[encoded data removed]",
      "text/plain": [
       "<Figure size 640x480 with 1 Axes>"
      ]
     },
     "metadata": {},
     "output_type": "display_data"
    }
   ],
   "source": [
    "test_prediction(4, W1, b1, W2, b2)\n",
    "test_prediction(1, W1, b1, W2, b2)\n",
    "test_prediction(2, W1, b1, W2, b2)\n",
    "test_prediction(3, W1, b1, W2, b2)"
   ]
  }
 ],
 "metadata": {
  "kernelspec": {
   "display_name": "Python 3",
   "language": "python",
   "name": "python3"
  },
  "language_info": {
   "codemirror_mode": {
    "name": "ipython",
    "version": 3
   },
   "file_extension": ".py",
   "mimetype": "text/x-python",
   "name": "python",
   "nbconvert_exporter": "python",
   "pygments_lexer": "ipython3",
   "version": "3.11.9"
  }
 },
 "nbformat": 4,
 "nbformat_minor": 2
}
